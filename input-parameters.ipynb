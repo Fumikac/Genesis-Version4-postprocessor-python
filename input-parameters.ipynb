{
 "cells": [
  {
   "cell_type": "markdown",
   "id": "5de58ede",
   "metadata": {},
   "source": [
    "# For lattice file (.lat)"
   ]
  },
  {
   "cell_type": "markdown",
   "id": "cb27e9e6",
   "metadata": {},
   "source": [
    "### create a line of lattice file - VISA"
   ]
  },
  {
   "cell_type": "code",
   "execution_count": 106,
   "id": "a6d47370",
   "metadata": {},
   "outputs": [],
   "source": [
    "class Beamline(object):\n",
    "    def __init__(self, z_init, line_init, line_end, zstop=4):\n",
    "        self.lambdau = 0.018\n",
    "        self.parts = {'QF':6, 'QD':6,'D':1,'QF0':3} #in length of lambdau \n",
    "        self.zstop = zstop\n",
    "        \n",
    "        self.stop = False\n",
    "        self.line = line_init\n",
    "        self.line_end = line_end    \n",
    "        self.z = z_init\n",
    "    \n",
    "    def add_part(self,name):\n",
    "        if not self.stop:\n",
    "            self.line +=',{}@{:.3f}'.format(name,self.z)\n",
    "            self.z +=self.parts[name]*self.lambdau\n",
    "            if self.z > self.zstop:\n",
    "                self.stop = True\n",
    "                self.line += self.line_end"
   ]
  },
  {
   "cell_type": "code",
   "execution_count": 107,
   "id": "fd8bdf1b",
   "metadata": {},
   "outputs": [
    {
     "name": "stdout",
     "output_type": "stream",
     "text": [
      "{UND,QF0@0.000,D@0.054,QD@0.072,D@0.180,QF0@0.198};\n"
     ]
    }
   ],
   "source": [
    "line = Beamline(z_init=0,line_init='{UND',line_end='};', zstop=4/16)\n",
    "#repeat FODO until the end of undulator\n",
    "for part in ['QF0','D','QD','D','QF0']:\n",
    "    line.add_part(part)\n",
    "    \n",
    "print(line.line)"
   ]
  },
  {
   "cell_type": "markdown",
   "id": "89fd76aa",
   "metadata": {},
   "source": [
    "# For input file (.in)"
   ]
  },
  {
   "cell_type": "markdown",
   "id": "b1b8cb6c",
   "metadata": {},
   "source": [
    "### Calculate normalized focusing strength of the quadrupole k [/m^2]"
   ]
  },
  {
   "cell_type": "code",
   "execution_count": 99,
   "id": "f5596009",
   "metadata": {},
   "outputs": [
    {
     "name": "stdout",
     "output_type": "stream",
     "text": [
      "normalized focusing strength k:99.831\n"
     ]
    }
   ],
   "source": [
    "g_f = 33.3 #[T/m] field strength\n",
    "p = 0.1 #[GeV/c] 100MeV\n",
    "k = 0.299792*g_f/p #ref. textbook\n",
    "\n",
    "print('normalized focusing strength k:{:.3f}'.format(k))"
   ]
  },
  {
   "cell_type": "markdown",
   "id": "feed1c04",
   "metadata": {},
   "source": [
    "### Calculate beta function"
   ]
  },
  {
   "cell_type": "code",
   "execution_count": 7,
   "id": "92c6fd7c",
   "metadata": {},
   "outputs": [
    {
     "name": "stdout",
     "output_type": "stream",
     "text": [
      "beta function: 0.329201\n"
     ]
    }
   ],
   "source": [
    "import numpy as np\n",
    "\n",
    "def gamma(E):\n",
    "    '''Return relativofistic gamma. Takes electron energy [MeV] '''\n",
    "    E_rest = 0.510623989196873 #MeV\n",
    "    return E/E_rest\n",
    "\n",
    "gamma = gamma(100)\n",
    "emit_n = 1e-6 #normalized emittance\n",
    "r_x = 41e-6 #rms beam size\n",
    "\n",
    "\n",
    "beta_z = np.sqrt(1-1/gamma/gamma) #~1\n",
    "emit_g = emit_n/gamma/beta_z\n",
    "beta_x = r_x**2/emit_g\n",
    "print('beta function: {:.6f}'.format(beta_x))"
   ]
  }
 ],
 "metadata": {
  "kernelspec": {
   "display_name": "Python 3",
   "language": "python",
   "name": "python3"
  },
  "language_info": {
   "codemirror_mode": {
    "name": "ipython",
    "version": 3
   },
   "file_extension": ".py",
   "mimetype": "text/x-python",
   "name": "python",
   "nbconvert_exporter": "python",
   "pygments_lexer": "ipython3",
   "version": "3.7.2"
  }
 },
 "nbformat": 4,
 "nbformat_minor": 5
}
